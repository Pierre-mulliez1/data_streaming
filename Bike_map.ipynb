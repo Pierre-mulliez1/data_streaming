{
 "cells": [
  {
   "cell_type": "markdown",
   "metadata": {},
   "source": [
    "# Getting the journey data\n",
    "\n",
    "The TfL bike usage data is hosted as a number of CSV files on their website. I looped through each of these CSVs, aggregated them together into one dataset, and cleaned it all up."
   ]
  },
  {
   "cell_type": "code",
   "execution_count": 4,
   "metadata": {},
   "outputs": [
    {
     "name": "stdout",
     "output_type": "stream",
     "text": [
      "(1000, 8)\n",
      "               id                     commonName  NbBikes  NbEmptyDocks  \\\n",
      "0  BikePoints_204    Margery Street, Clerkenwell        3            16   \n",
      "1  BikePoints_206       New Road 1 , Whitechapel       36             0   \n",
      "2  BikePoints_207  Grosvenor Crescent, Belgravia        2            15   \n",
      "3  BikePoints_208     Mallory Street, Marylebone        0            20   \n",
      "4  BikePoints_209   Denyer Street, Knightsbridge        3            27   \n",
      "\n",
      "   NbDocks        lat      lon    proc_timestamp  \n",
      "0       19  51.526599 -0.11243  10/05/2021 10:51  \n",
      "1       36  51.518154 -0.06270  10/05/2021 10:51  \n",
      "2       18  51.501352 -0.15319  10/05/2021 10:51  \n",
      "3       20  51.525051 -0.16630  10/05/2021 10:51  \n",
      "4       30  51.493583 -0.16510  10/05/2021 10:51  \n"
     ]
    }
   ],
   "source": [
    "#This is our code \n",
    "\n",
    "import pandas as pd\n",
    "import urllib\n",
    "\n",
    "#Change with the most up to date dataset from superset \n",
    "all_data = pd.read_csv(\"Dataset_map.csv\")\n",
    "\n",
    "print(all_data.shape)\n",
    "print(all_data.head())\n",
    "\n",
    "#NbEmptyDocks to int \n",
    "all_data.loc[:,\"NbEmptyDocks\"] = pd.to_numeric(all_data.loc[:,\"NbEmptyDocks\"])"
   ]
  },
  {
   "cell_type": "markdown",
   "metadata": {},
   "source": [
    "# Getting the bike station locations\n",
    "\n",
    "TfL have a live \"cycle hire updates\" feed which lists information for each cycle hire station, updated once every minute or so. I don't utilise this live data - instead I just take the name, ID, lat/lon, and capacity for each bike station."
   ]
  },
  {
   "cell_type": "markdown",
   "metadata": {},
   "source": [
    "**Original code to get the data**\n",
    "\n",
    "import requests\n",
    "from xml.etree import ElementTree as ET\n",
    "import pandas as pd\n",
    "\n",
    "site = \"https://tfl.gov.uk/tfl/syndication/feeds/cycle-hire/livecyclehireupdates.xml\"\n",
    "\n",
    "response = requests.get(site)\n",
    "root = ET.fromstring(response.content)\n",
    "\n",
    "id_list = [int(root[i][0].text) for i in range(0, len(root))]\n",
    "name_list = [root[i][1].text for i in range(0, len(root))]\n",
    "lat_list = [float(root[i][3].text) for i in range(0, len(root))]\n",
    "lon_list = [float(root[i][4].text) for i in range(0, len(root))]\n",
    "capacity_list = [int(root[i][12].text) for i in range(0, len(root))]\n",
    "\n",
    "all_locs = pd.DataFrame(list(zip(name_list, id_list, lat_list, \n",
    "                                 lon_list, capacity_list)), columns = [\"name\",\"id\",\"lat\",\"lon\",\"capacity\"])\n",
    "\n",
    "all_locs.to_csv('bike_point_locations_saved.csv', header=True, index=None)\n",
    "\n",
    "print(all_locs.shape)\n",
    "all_locs.head()"
   ]
  },
  {
   "cell_type": "markdown",
   "metadata": {},
   "source": [
    "## Plotting all the bike stations in bokeh\n",
    "\n",
    "Once I've got all the bike station locations, I generate a quick interactive bokeh plot of all of them. For the backgrounds I use two separate shapefiles I downloaded - one of all the buildings in London, and one of all the roads."
   ]
  },
  {
   "cell_type": "code",
   "execution_count": 5,
   "metadata": {},
   "outputs": [],
   "source": [
    "from bokeh.models import GeoJSONDataSource, ColumnDataSource\n",
    "from bokeh.models.tools import PanTool, HoverTool, ResetTool, WheelZoomTool\n",
    "from bokeh.io import output_notebook, output_file, save, show\n",
    "from bokeh.sampledata.sample_geojson import geojson\n",
    "import bokeh.plotting as bp\n",
    "import json"
   ]
  },
  {
   "cell_type": "code",
   "execution_count": 6,
   "metadata": {},
   "outputs": [],
   "source": [
    "## Load both roads and buildings geojson files into correct format \n",
    "\n",
    "# Load buildings but truncate heavily to 100 polygons (at first)\n",
    "with open('Basemaps/London_buildings.geojson', 'r') as f:\n",
    "    geojson_buildings = f.read()\n",
    "    \n",
    "with open('Basemaps/London_roads.geojson', 'r') as f:\n",
    "    geojson_roads = f.read()\n",
    "\n",
    "# Load geojson\n",
    "json_buildings = GeoJSONDataSource(geojson=json.dumps(json.loads(geojson_buildings)))\n",
    "json_roads = GeoJSONDataSource(geojson=json.dumps(json.loads(geojson_roads)))"
   ]
  },
  {
   "cell_type": "code",
   "execution_count": 7,
   "metadata": {},
   "outputs": [
    {
     "name": "stdout",
     "output_type": "stream",
     "text": [
      "(-0.23777, 0.0007200000000000002)\n",
      "(51.451752, 51.552369)\n"
     ]
    },
    {
     "data": {
      "text/html": [
       "<div>\n",
       "<style scoped>\n",
       "    .dataframe tbody tr th:only-of-type {\n",
       "        vertical-align: middle;\n",
       "    }\n",
       "\n",
       "    .dataframe tbody tr th {\n",
       "        vertical-align: top;\n",
       "    }\n",
       "\n",
       "    .dataframe thead th {\n",
       "        text-align: right;\n",
       "    }\n",
       "</style>\n",
       "<table border=\"1\" class=\"dataframe\">\n",
       "  <thead>\n",
       "    <tr style=\"text-align: right;\">\n",
       "      <th></th>\n",
       "      <th>commonName</th>\n",
       "      <th>NbEmptyDocks</th>\n",
       "      <th>lat</th>\n",
       "      <th>lon</th>\n",
       "      <th>proc_timestamp</th>\n",
       "      <th>size</th>\n",
       "    </tr>\n",
       "  </thead>\n",
       "  <tbody>\n",
       "    <tr>\n",
       "      <th>0</th>\n",
       "      <td>Margery Street, Clerkenwell</td>\n",
       "      <td>16</td>\n",
       "      <td>51.526599</td>\n",
       "      <td>-0.11243</td>\n",
       "      <td>10/05/2021 10:51</td>\n",
       "      <td>5</td>\n",
       "    </tr>\n",
       "    <tr>\n",
       "      <th>1</th>\n",
       "      <td>New Road 1 , Whitechapel</td>\n",
       "      <td>0</td>\n",
       "      <td>51.518154</td>\n",
       "      <td>-0.06270</td>\n",
       "      <td>10/05/2021 10:51</td>\n",
       "      <td>5</td>\n",
       "    </tr>\n",
       "    <tr>\n",
       "      <th>2</th>\n",
       "      <td>Grosvenor Crescent, Belgravia</td>\n",
       "      <td>15</td>\n",
       "      <td>51.501352</td>\n",
       "      <td>-0.15319</td>\n",
       "      <td>10/05/2021 10:51</td>\n",
       "      <td>5</td>\n",
       "    </tr>\n",
       "    <tr>\n",
       "      <th>3</th>\n",
       "      <td>Mallory Street, Marylebone</td>\n",
       "      <td>20</td>\n",
       "      <td>51.525051</td>\n",
       "      <td>-0.16630</td>\n",
       "      <td>10/05/2021 10:51</td>\n",
       "      <td>5</td>\n",
       "    </tr>\n",
       "    <tr>\n",
       "      <th>4</th>\n",
       "      <td>Denyer Street, Knightsbridge</td>\n",
       "      <td>27</td>\n",
       "      <td>51.493583</td>\n",
       "      <td>-0.16510</td>\n",
       "      <td>10/05/2021 10:51</td>\n",
       "      <td>5</td>\n",
       "    </tr>\n",
       "  </tbody>\n",
       "</table>\n",
       "</div>"
      ],
      "text/plain": [
       "                      commonName  NbEmptyDocks        lat      lon  \\\n",
       "0    Margery Street, Clerkenwell            16  51.526599 -0.11243   \n",
       "1       New Road 1 , Whitechapel             0  51.518154 -0.06270   \n",
       "2  Grosvenor Crescent, Belgravia            15  51.501352 -0.15319   \n",
       "3     Mallory Street, Marylebone            20  51.525051 -0.16630   \n",
       "4   Denyer Street, Knightsbridge            27  51.493583 -0.16510   \n",
       "\n",
       "     proc_timestamp  size  \n",
       "0  10/05/2021 10:51     5  \n",
       "1  10/05/2021 10:51     5  \n",
       "2  10/05/2021 10:51     5  \n",
       "3  10/05/2021 10:51     5  \n",
       "4  10/05/2021 10:51     5  "
      ]
     },
     "execution_count": 7,
     "metadata": {},
     "output_type": "execute_result"
    }
   ],
   "source": [
    "# Sort out the dataframe for plotting - bounding box, size of plot, etc\n",
    "\n",
    "\n",
    "\n",
    "df_points = all_data.loc[:,('commonName', 'NbEmptyDocks','lat', 'lon','proc_timestamp')]\n",
    "df_points['size'] = 5\n",
    "\n",
    "x_range = (df_points.lon.min() - 0.001, df_points.lon.max() + 0.003)\n",
    "y_range = (df_points.lat.min() - 0.003, df_points.lat.max() + 0.003)\n",
    "\n",
    "points_source = ColumnDataSource(ColumnDataSource.from_df(df_points))\n",
    "\n",
    "print(x_range)\n",
    "print(y_range)\n",
    "\n",
    "plot_h = 600\n",
    "plot_w = 900\n",
    "\n",
    "df_points.head()"
   ]
  },
  {
   "cell_type": "code",
   "execution_count": 8,
   "metadata": {},
   "outputs": [],
   "source": [
    "## Set up the bokeh plot. I\n",
    "#some modification in code\n",
    "\n",
    "tools = [PanTool(), WheelZoomTool(), ResetTool()]\n",
    "\n",
    "p = bp.figure(tools=tools, plot_width=plot_w, plot_height=plot_h,\n",
    "    x_range=x_range, y_range=y_range, outline_line_color=None,\n",
    "    min_border=0, min_border_left=0, min_border_right=0,\n",
    "    min_border_top=0, min_border_bottom=0, title = 'London bike map') \n",
    "\n",
    "p.patches(xs='xs', ys='ys', fill_alpha=0.3, fill_color='#0C090A',\n",
    "                   line_alpha=0, source=json_buildings)\n",
    "\n",
    "circles = p.circle(x='lon', y='lat', size='size', color='blue', alpha=1, source=points_source)\n",
    "\n",
    "\n",
    "tooltips=[\n",
    "            (\"Name\", \"@commonName\"),\n",
    "            (\"Capacity\", \"@NbEmptyDocks\"),\n",
    "             (\"Processed\", \"@proc_timestamp\")\n",
    "        ]\n",
    "    \n",
    "\n",
    "p.add_tools(HoverTool(tooltips=tooltips, renderers = [circles]))\n",
    "\n",
    "\n",
    "p.background_fill_color = '#2C3539'\n",
    "p.xaxis.visible = False\n",
    "p.yaxis.visible = False\n",
    "p.xgrid.grid_line_color = None\n",
    "p.ygrid.grid_line_color = None\n",
    "\n",
    "show(p)"
   ]
  }
 ],
 "metadata": {
  "anaconda-cloud": {},
  "kernelspec": {
   "display_name": "Python 3",
   "language": "python",
   "name": "python3"
  },
  "language_info": {
   "codemirror_mode": {
    "name": "ipython",
    "version": 3
   },
   "file_extension": ".py",
   "mimetype": "text/x-python",
   "name": "python",
   "nbconvert_exporter": "python",
   "pygments_lexer": "ipython3",
   "version": "3.7.6"
  }
 },
 "nbformat": 4,
 "nbformat_minor": 1
}
