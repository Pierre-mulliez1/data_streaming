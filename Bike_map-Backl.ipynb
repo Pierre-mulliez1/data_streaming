{
 "cells": [
  {
   "cell_type": "markdown",
   "metadata": {},
   "source": [
    "# Getting the journey data\n",
    "\n",
    "The TfL bike usage data is hosted as a number of CSV files on their website. I looped through each of these CSVs, aggregated them together into one dataset, and cleaned it all up."
   ]
  },
  {
   "cell_type": "code",
   "execution_count": 14,
   "metadata": {},
   "outputs": [
    {
     "name": "stdout",
     "output_type": "stream",
     "text": [
      "(1000, 8)\n",
      "               id                    commonName  NbBikes  NbEmptyDocks  \\\n",
      "0  BikePoints_204   Margery Street, Clerkenwell        1            18   \n",
      "1    BikePoints_1    River Street , Clerkenwell        5            14   \n",
      "2   BikePoints_10         Park Street, Bankside       15             2   \n",
      "3  BikePoints_100   Albert Embankment, Vauxhall        7            17   \n",
      "4   BikePoints_11  Brunswick Square, Bloomsbury        0            24   \n",
      "\n",
      "   NbDocks  lat  lon       proc_timestamp  \n",
      "0       19   51    0  2021-05-09 17:12:41  \n",
      "1       19   51    0  2021-05-09 17:12:43  \n",
      "2       18   51    0  2021-05-09 17:12:43  \n",
      "3       24   51    0  2021-05-09 17:12:43  \n",
      "4       24   51    0  2021-05-09 17:12:43  \n"
     ]
    }
   ],
   "source": [
    "#This is our code \n",
    "\n",
    "import pandas as pd\n",
    "import urllib\n",
    "\n",
    "all_data = pd.read_csv(\"Dataset_0905.csv\")\n",
    "\n",
    "print(all_data.shape)\n",
    "print(all_data.head())\n",
    "\n",
    "#NbEmptyDocks to int \n",
    "all_data.loc[:,\"NbEmptyDocks\"] = pd.to_numeric(all_data.loc[:,\"NbEmptyDocks\"])"
   ]
  },
  {
   "cell_type": "markdown",
   "metadata": {},
   "source": [
    "# Getting the bike station locations\n",
    "\n",
    "TfL have a live \"cycle hire updates\" feed which lists information for each cycle hire station, updated once every minute or so. I don't utilise this live data - instead I just take the name, ID, lat/lon, and capacity for each bike station."
   ]
  },
  {
   "cell_type": "markdown",
   "metadata": {},
   "source": [
    "**Original code to get the data**\n",
    "\n",
    "import requests\n",
    "from xml.etree import ElementTree as ET\n",
    "import pandas as pd\n",
    "\n",
    "site = \"https://tfl.gov.uk/tfl/syndication/feeds/cycle-hire/livecyclehireupdates.xml\"\n",
    "\n",
    "response = requests.get(site)\n",
    "root = ET.fromstring(response.content)\n",
    "\n",
    "id_list = [int(root[i][0].text) for i in range(0, len(root))]\n",
    "name_list = [root[i][1].text for i in range(0, len(root))]\n",
    "lat_list = [float(root[i][3].text) for i in range(0, len(root))]\n",
    "lon_list = [float(root[i][4].text) for i in range(0, len(root))]\n",
    "capacity_list = [int(root[i][12].text) for i in range(0, len(root))]\n",
    "\n",
    "all_locs = pd.DataFrame(list(zip(name_list, id_list, lat_list, \n",
    "                                 lon_list, capacity_list)), columns = [\"name\",\"id\",\"lat\",\"lon\",\"capacity\"])\n",
    "\n",
    "all_locs.to_csv('bike_point_locations_saved.csv', header=True, index=None)\n",
    "\n",
    "print(all_locs.shape)\n",
    "all_locs.head()"
   ]
  },
  {
   "cell_type": "markdown",
   "metadata": {},
   "source": [
    "## Plotting all the bike stations in bokeh\n",
    "\n",
    "Once I've got all the bike station locations, I generate a quick interactive bokeh plot of all of them. For the backgrounds I use two separate shapefiles I downloaded - one of all the buildings in London, and one of all the roads."
   ]
  },
  {
   "cell_type": "code",
   "execution_count": 4,
   "metadata": {},
   "outputs": [],
   "source": [
    "from bokeh.models import GeoJSONDataSource, ColumnDataSource\n",
    "from bokeh.models.tools import PanTool, HoverTool, ResetTool, WheelZoomTool\n",
    "from bokeh.io import output_notebook, output_file, save, show\n",
    "from bokeh.sampledata.sample_geojson import geojson\n",
    "import bokeh.plotting as bp\n",
    "import json"
   ]
  },
  {
   "cell_type": "code",
   "execution_count": 5,
   "metadata": {},
   "outputs": [],
   "source": [
    "## Load both roads and buildings geojson files into correct format \n",
    "\n",
    "# Load buildings but truncate heavily to 100 polygons (at first)\n",
    "with open('Basemaps/London_buildings.geojson', 'r') as f:\n",
    "    geojson_buildings = f.read()\n",
    "    \n",
    "with open('Basemaps/London_roads.geojson', 'r') as f:\n",
    "    geojson_roads = f.read()\n",
    "\n",
    "# Load geojson\n",
    "json_buildings = GeoJSONDataSource(geojson=json.dumps(json.loads(geojson_buildings)))\n",
    "json_roads = GeoJSONDataSource(geojson=json.dumps(json.loads(geojson_roads)))"
   ]
  },
  {
   "cell_type": "code",
   "execution_count": 6,
   "metadata": {},
   "outputs": [
    {
     "name": "stdout",
     "output_type": "stream",
     "text": [
      "(-0.001, 0.003)\n",
      "(50.997, 51.003)\n"
     ]
    },
    {
     "data": {
      "text/html": [
       "<div>\n",
       "<style scoped>\n",
       "    .dataframe tbody tr th:only-of-type {\n",
       "        vertical-align: middle;\n",
       "    }\n",
       "\n",
       "    .dataframe tbody tr th {\n",
       "        vertical-align: top;\n",
       "    }\n",
       "\n",
       "    .dataframe thead th {\n",
       "        text-align: right;\n",
       "    }\n",
       "</style>\n",
       "<table border=\"1\" class=\"dataframe\">\n",
       "  <thead>\n",
       "    <tr style=\"text-align: right;\">\n",
       "      <th></th>\n",
       "      <th>commonName</th>\n",
       "      <th>NbEmptyDocks</th>\n",
       "      <th>lat</th>\n",
       "      <th>lon</th>\n",
       "      <th>size</th>\n",
       "    </tr>\n",
       "  </thead>\n",
       "  <tbody>\n",
       "    <tr>\n",
       "      <th>0</th>\n",
       "      <td>Margery Street, Clerkenwell</td>\n",
       "      <td>18</td>\n",
       "      <td>51</td>\n",
       "      <td>0</td>\n",
       "      <td>5</td>\n",
       "    </tr>\n",
       "    <tr>\n",
       "      <th>1</th>\n",
       "      <td>River Street , Clerkenwell</td>\n",
       "      <td>14</td>\n",
       "      <td>51</td>\n",
       "      <td>0</td>\n",
       "      <td>5</td>\n",
       "    </tr>\n",
       "    <tr>\n",
       "      <th>2</th>\n",
       "      <td>Park Street, Bankside</td>\n",
       "      <td>2</td>\n",
       "      <td>51</td>\n",
       "      <td>0</td>\n",
       "      <td>5</td>\n",
       "    </tr>\n",
       "    <tr>\n",
       "      <th>3</th>\n",
       "      <td>Albert Embankment, Vauxhall</td>\n",
       "      <td>17</td>\n",
       "      <td>51</td>\n",
       "      <td>0</td>\n",
       "      <td>5</td>\n",
       "    </tr>\n",
       "    <tr>\n",
       "      <th>4</th>\n",
       "      <td>Brunswick Square, Bloomsbury</td>\n",
       "      <td>24</td>\n",
       "      <td>51</td>\n",
       "      <td>0</td>\n",
       "      <td>5</td>\n",
       "    </tr>\n",
       "  </tbody>\n",
       "</table>\n",
       "</div>"
      ],
      "text/plain": [
       "                     commonName  NbEmptyDocks  lat  lon  size\n",
       "0   Margery Street, Clerkenwell            18   51    0     5\n",
       "1    River Street , Clerkenwell            14   51    0     5\n",
       "2         Park Street, Bankside             2   51    0     5\n",
       "3   Albert Embankment, Vauxhall            17   51    0     5\n",
       "4  Brunswick Square, Bloomsbury            24   51    0     5"
      ]
     },
     "execution_count": 6,
     "metadata": {},
     "output_type": "execute_result"
    }
   ],
   "source": [
    "# Sort out the dataframe for plotting - bounding box, size of plot, etc\n",
    "\n",
    "\n",
    "\n",
    "df_points = all_data.loc[:,('commonName', 'NbEmptyDocks','lat', 'lon','proc_timestamp')]\n",
    "df_points['size'] = 5\n",
    "\n",
    "x_range = (df_points.lon.min() - 0.001, df_points.lon.max() + 0.003)\n",
    "y_range = (df_points.lat.min() - 0.003, df_points.lat.max() + 0.003)\n",
    "\n",
    "points_source = ColumnDataSource(ColumnDataSource.from_df(df_points))\n",
    "\n",
    "print(x_range)\n",
    "print(y_range)\n",
    "\n",
    "plot_h = 600\n",
    "plot_w = 900\n",
    "\n",
    "df_points.head()"
   ]
  },
  {
   "cell_type": "code",
   "execution_count": 13,
   "metadata": {},
   "outputs": [],
   "source": [
    "## Set up the bokeh plot. I\n",
    "#some modification in code\n",
    "\n",
    "tools = [PanTool(), WheelZoomTool(), ResetTool()]\n",
    "\n",
    "p = bp.figure(tools=tools, plot_width=plot_w, plot_height=plot_h,\n",
    "    x_range=x_range, y_range=y_range, outline_line_color=None,\n",
    "    min_border=0, min_border_left=0, min_border_right=0,\n",
    "    min_border_top=0, min_border_bottom=0, title = 'London bike map') \n",
    "\n",
    "p.patches(xs='xs', ys='ys', fill_alpha=0.3, fill_color='#0C090A',\n",
    "                   line_alpha=0, source=json_buildings)\n",
    "\n",
    "circles = p.circle(x='lon', y='lat', size='size', color='blue', alpha=1, source=points_source)\n",
    "\n",
    "\n",
    "tooltips=[\n",
    "            (\"Name\", \"@commonName\"),\n",
    "            (\"Capacity\", \"@NbEmptyDocks\"),\n",
    "             (\"Processed\", \"@proc_timestamp\")\n",
    "        ]\n",
    "    \n",
    "\n",
    "p.add_tools(hover, renderer = [circles])\n",
    "\n",
    "\n",
    "p.background_fill_color = '#2C3539'\n",
    "p.xaxis.visible = False\n",
    "p.yaxis.visible = False\n",
    "p.xgrid.grid_line_color = None\n",
    "p.ygrid.grid_line_color = None\n",
    "\n",
    "show(p)"
   ]
  }
 ],
 "metadata": {
  "anaconda-cloud": {},
  "kernelspec": {
   "display_name": "Python 3",
   "language": "python",
   "name": "python3"
  },
  "language_info": {
   "codemirror_mode": {
    "name": "ipython",
    "version": 3
   },
   "file_extension": ".py",
   "mimetype": "text/x-python",
   "name": "python",
   "nbconvert_exporter": "python",
   "pygments_lexer": "ipython3",
   "version": "3.7.6"
  }
 },
 "nbformat": 4,
 "nbformat_minor": 1
}
